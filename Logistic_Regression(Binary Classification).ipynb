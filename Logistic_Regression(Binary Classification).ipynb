{
  "nbformat": 4,
  "nbformat_minor": 0,
  "metadata": {
    "colab": {
      "name": "Logistic Regression.ipynb",
      "provenance": [],
      "collapsed_sections": [],
      "toc_visible": true,
      "authorship_tag": "ABX9TyPSiVhus3vGnbqtIk4wPPxQ",
      "include_colab_link": true
    },
    "kernelspec": {
      "name": "python3",
      "display_name": "Python 3"
    },
    "language_info": {
      "name": "python"
    }
  },
  "cells": [
    {
      "cell_type": "markdown",
      "metadata": {
        "id": "view-in-github",
        "colab_type": "text"
      },
      "source": [
        "<a href=\"https://colab.research.google.com/github/AhmedAkram392/Logistic-Regression-Binary-Classification-/blob/main/Logistic_Regression(Binary%20Classification).ipynb\" target=\"_parent\"><img src=\"https://colab.research.google.com/assets/colab-badge.svg\" alt=\"Open In Colab\"/></a>"
      ]
    },
    {
      "cell_type": "code",
      "execution_count": 1,
      "metadata": {
        "id": "IoT9NofQ6u09"
      },
      "outputs": [],
      "source": [
        "import pandas as pd # we will read file and save this data frame object\n",
        "from matplotlib import pyplot as plt # Using this we will visualizse our data points\n"
      ]
    },
    {
      "cell_type": "code",
      "source": [
        "data = pd.read_csv(\"Logistic_Regression.csv\")\n",
        "data # This will print the all data that has been assigned to 'data' object"
      ],
      "metadata": {
        "id": "7Uq-Q0vs7eNN"
      },
      "execution_count": null,
      "outputs": []
    },
    {
      "cell_type": "code",
      "source": [
        "plt.scatter(data.Age, data.Insurance, marker='+', color = 'red') # This command will visulaize the data points"
      ],
      "metadata": {
        "colab": {
          "base_uri": "https://localhost:8080/",
          "height": 282
        },
        "id": "ryGmYF-98dyw",
        "outputId": "885029e8-e2a6-4dee-97aa-7a81e7a2efe8"
      },
      "execution_count": 5,
      "outputs": [
        {
          "output_type": "execute_result",
          "data": {
            "text/plain": [
              "<matplotlib.collections.PathCollection at 0x7f638fffed90>"
            ]
          },
          "metadata": {},
          "execution_count": 5
        },
        {
          "output_type": "display_data",
          "data": {
            "text/plain": [
              "<Figure size 432x288 with 1 Axes>"
            ],
            "image/png": "[encoded data removed]"
          },
          "metadata": {
            "needs_background": "light"
          }
        }
      ]
    },
    {
      "cell_type": "code",
      "source": [
        "from sklearn.model_selection import train_test_split\n",
        "'''\n",
        "In supervised machine learning applications, you’ll typically work with two such sequences:\n",
        "\n",
        "A two-dimensional array with the inputs (x)\n",
        "A one-dimensional array with the outputs (y)\n",
        "\n",
        "Keeping the above things under consideration, it should be noted that Our x in train test split will be 2D that's why it contains the double brackets, and Y will be 1D that's why It\n",
        "has been accessed directly\n",
        "\n",
        "Moreover, when you have to access more than one column of data frame, we usually call by this syntax\n",
        "\n",
        "'''\n",
        "\n",
        "# Below line is actually taking x and y two inputs and other argument which is train size that will divide the data set of 80% into training sample and 20% into test sample\n",
        "X_train, X_test,  Y_train, Y_test = train_test_split(data[['Age']], data.Insurance, train_size=0.8) "
      ],
      "metadata": {
        "id": "ZjwnfkWj-Lg7"
      },
      "execution_count": 11,
      "outputs": []
    },
    {
      "cell_type": "code",
      "source": [
        "'''\n",
        "Now we have splitted our data set into training and test sample, its time to call logistic regression model and train it to our training sampes\n",
        "\n",
        "'''\n",
        "from sklearn.linear_model import LogisticRegression\n",
        "model=LogisticRegression()"
      ],
      "metadata": {
        "id": "QwJ1kW-zBCc-"
      },
      "execution_count": 12,
      "outputs": []
    },
    {
      "cell_type": "code",
      "source": [
        "#the below mentioned code will actually train the model on training samples\n",
        "model.fit(X_train, Y_train)"
      ],
      "metadata": {
        "colab": {
          "base_uri": "https://localhost:8080/"
        },
        "id": "S1RCk14YBxLf",
        "outputId": "7d690ffc-49a6-4ae7-80f9-7bc7fb97fddc"
      },
      "execution_count": 13,
      "outputs": [
        {
          "output_type": "execute_result",
          "data": {
            "text/plain": [
              "LogisticRegression()"
            ]
          },
          "metadata": {},
          "execution_count": 13
        }
      ]
    },
    {
      "cell_type": "code",
      "source": [
        "# Now the model has been trained, the trained model is object 'model'\n",
        "\n",
        "Prediction = model. predict(X_test)\n",
        "\n",
        "'''\n",
        "the above line actually evaluating our model, basically we are giving test samples which contains age, and Prediction contains the results which should be equal to\n",
        "Y_test, that contains the  actual results  \n",
        "\n",
        "'''"
      ],
      "metadata": {
        "id": "6f1-XjIkCWjA"
      },
      "execution_count": null,
      "outputs": []
    },
    {
      "cell_type": "code",
      "source": [
        "# The below mention array contains the list, which contains the results predicted by our trained model\n",
        "Prediction"
      ],
      "metadata": {
        "colab": {
          "base_uri": "https://localhost:8080/"
        },
        "id": "06LUPuBHDFVo",
        "outputId": "bc758903-efc6-4942-a448-e5989d033404"
      },
      "execution_count": 16,
      "outputs": [
        {
          "output_type": "execute_result",
          "data": {
            "text/plain": [
              "array([0, 1, 1, 0, 0, 1])"
            ]
          },
          "metadata": {},
          "execution_count": 16
        }
      ]
    },
    {
      "cell_type": "code",
      "source": [
        "#The below mentioned line shows the actual results \n",
        "Y_test.ravel() # the ravel method will actually flatten the array"
      ],
      "metadata": {
        "colab": {
          "base_uri": "https://localhost:8080/"
        },
        "id": "YNnOVbdkDKIG",
        "outputId": "d881d5b0-0191-4cd6-8a22-55e443c22f9a"
      },
      "execution_count": 21,
      "outputs": [
        {
          "output_type": "execute_result",
          "data": {
            "text/plain": [
              "array([0, 1, 1, 1, 0, 1])"
            ]
          },
          "metadata": {},
          "execution_count": 21
        }
      ]
    }
  ]
}